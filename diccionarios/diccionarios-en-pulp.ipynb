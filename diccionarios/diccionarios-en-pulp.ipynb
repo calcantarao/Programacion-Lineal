{
 "cells": [
  {
   "cell_type": "markdown",
   "metadata": {},
   "source": [
    "\n",
    "# Diccionarios en python\n",
    "\n"
   ]
  },
  {
   "cell_type": "markdown",
   "metadata": {},
   "source": [
    "Un diccionario es una estructura de datos en Python que generaliza a\n",
    "las listas.\n",
    "\n"
   ]
  },
  {
   "cell_type": "markdown",
   "metadata": {},
   "source": [
    "\n",
    "## Ejemplo\n",
    "\n"
   ]
  },
  {
   "cell_type": "markdown",
   "metadata": {},
   "source": [
    "Supongamos a una actriz le han ofrecido los siguientes proyectos para\n",
    "el siguiente año.\n",
    "\n",
    "<table border=\"2\" cellspacing=\"0\" cellpadding=\"6\" rules=\"groups\" frame=\"hsides\">\n",
    "\n",
    "\n",
    "<colgroup>\n",
    "<col  class=\"org-left\" />\n",
    "\n",
    "<col  class=\"org-left\" />\n",
    "\n",
    "<col  class=\"org-left\" />\n",
    "</colgroup>\n",
    "<thead>\n",
    "<tr>\n",
    "<th scope=\"col\" class=\"org-left\">Título</th>\n",
    "<th scope=\"col\" class=\"org-left\">Inicio</th>\n",
    "<th scope=\"col\" class=\"org-left\">Final</th>\n",
    "</tr>\n",
    "</thead>\n",
    "\n",
    "<tbody>\n",
    "<tr>\n",
    "<td class=\"org-left\">Star Wars 10</td>\n",
    "<td class=\"org-left\">Enero 15</td>\n",
    "<td class=\"org-left\">Febrero 2</td>\n",
    "</tr>\n",
    "\n",
    "\n",
    "<tr>\n",
    "<td class=\"org-left\">Toy Story 5</td>\n",
    "<td class=\"org-left\">Enero 28</td>\n",
    "<td class=\"org-left\">Febrero 3</td>\n",
    "</tr>\n",
    "\n",
    "\n",
    "<tr>\n",
    "<td class=\"org-left\">Anabelle 3</td>\n",
    "<td class=\"org-left\">Marzo 2</td>\n",
    "<td class=\"org-left\">Marzo 5</td>\n",
    "</tr>\n",
    "\n",
    "\n",
    "<tr>\n",
    "<td class=\"org-left\">Planeta de los Simios 4</td>\n",
    "<td class=\"org-left\">Enero 17</td>\n",
    "<td class=\"org-left\">Marzo 3</td>\n",
    "</tr>\n",
    "\n",
    "\n",
    "<tr>\n",
    "<td class=\"org-left\">Titanic 2</td>\n",
    "<td class=\"org-left\">Febrero 4</td>\n",
    "<td class=\"org-left\">Febrero 25</td>\n",
    "</tr>\n",
    "\n",
    "\n",
    "<tr>\n",
    "<td class=\"org-left\">Harry Potter 9</td>\n",
    "<td class=\"org-left\">Febrero 16</td>\n",
    "<td class=\"org-left\">Marzo 17</td>\n",
    "</tr>\n",
    "\n",
    "\n",
    "<tr>\n",
    "<td class=\"org-left\">Saw 9</td>\n",
    "<td class=\"org-left\">Marzo 10</td>\n",
    "<td class=\"org-left\">Marzo 11</td>\n",
    "</tr>\n",
    "</tbody>\n",
    "</table>\n",
    "\n",
    "Una manera de organizar la información podría ser por medio de listas,\n",
    "como:\n",
    "\n"
   ]
  },
  {
   "cell_type": "code",
   "execution_count": 1,
   "metadata": {},
   "outputs": [],
   "source": [
    "st10 = [\"Star Wars 10\", \"Enero 15\", \"Febrero 2\"]\n",
    "ts5 = [\"Toy Story 5\", \"Enero 28\", \"Febrero 3\"]"
   ]
  },
  {
   "cell_type": "markdown",
   "metadata": {},
   "source": [
    "Hay (al menos) dos maneras en que se puede mejorar esto. Primero,\n",
    "probablemente la actriz necesita saber la cantidad de días de trabajo\n",
    "por película para determinar su salario. Para esto, es conveniente\n",
    "usar la biblioteca `datetime`.\n",
    "\n"
   ]
  },
  {
   "cell_type": "code",
   "execution_count": 1,
   "metadata": {},
   "outputs": [],
   "source": [
    "from datetime import date\n",
    "st10 = [\"Star Wars 10\", date(2020,1,15), date(2020,2,2)]\n",
    "ts5=[\"Toy Story 5\", date(2020,1,28), date(2020,2,3)]\n",
    "duracion_st10 = st10[2]-st10[1]\n",
    "duracion_ts5 = ts5[2]-ts5[1]\n",
    "duracion_st10.days, duracion_ts5.days"
   ]
  },
  {
   "cell_type": "markdown",
   "metadata": {},
   "source": [
    "La otra manera es usar una nueva estructura de datos, los\n",
    "`diccionarios`. Esto es conveniente, pues los datos de la película no\n",
    "son todos de la misma naturaleza.\n",
    "\n"
   ]
  },
  {
   "cell_type": "code",
   "execution_count": 1,
   "metadata": {},
   "outputs": [],
   "source": [
    "st10 = {'titulo':\"Star Wars 10\", 'inicio':date(2020,1,15), 'final':date(2020,2,2)}\n",
    "ts5={'titulo':\"Toy Story 5\", 'inicio':date(2020,1,28), 'final':date(2020,2,3)}\n",
    "st10['titulo'], (st10['final']-st10['inicio']).days"
   ]
  },
  {
   "cell_type": "markdown",
   "metadata": {},
   "source": [
    "Otra manera de introducir diccionarios cuando las *claves* son cadenas\n",
    "simples:\n",
    "\n"
   ]
  },
  {
   "cell_type": "code",
   "execution_count": 1,
   "metadata": {},
   "outputs": [],
   "source": [
    "ana3=dict(titulo=\"Anabelle 3\",inicio=date(2020,3,2),final=date(2020,3,5))\n",
    "ana3, ana3['titulo'], ana3['inicio']"
   ]
  },
  {
   "cell_type": "markdown",
   "metadata": {},
   "source": [
    "Otra manera es asignar los datos sucesivamente:\n",
    "\n"
   ]
  },
  {
   "cell_type": "code",
   "execution_count": 1,
   "metadata": {},
   "outputs": [],
   "source": [
    "ps4 = {}\n",
    "ps4['titulo'] = \"Planeta de los Simios 4\"\n",
    "ps4['inicio'] = date(2020,1,17)\n",
    "ps4['final'] = date(2020,3,3)\n",
    "ps4"
   ]
  },
  {
   "cell_type": "markdown",
   "metadata": {},
   "source": [
    "Otra manera es usando `zip`, que es una operación entre listas.\n",
    "\n"
   ]
  },
  {
   "cell_type": "code",
   "execution_count": 1,
   "metadata": {},
   "outputs": [],
   "source": [
    "claves = ['titulo', 'inicio', 'final']\n",
    "datos = [\"Titanic 2\", date(2020,2,4), date(2020,2,25)]\n",
    "list(zip(claves, datos))"
   ]
  },
  {
   "cell_type": "code",
   "execution_count": 1,
   "metadata": {},
   "outputs": [],
   "source": [
    "ti2 = dict(zip(claves, datos))\n",
    "ti2"
   ]
  },
  {
   "cell_type": "markdown",
   "metadata": {},
   "source": [
    "\n",
    "# Operaciones en listas\n",
    "\n"
   ]
  },
  {
   "cell_type": "markdown",
   "metadata": {},
   "source": [
    "Una manera sencilla de crear nuevas listas a partir de otras:\n",
    "\n"
   ]
  },
  {
   "cell_type": "code",
   "execution_count": 1,
   "metadata": {},
   "outputs": [],
   "source": [
    "cuadrados = [x**2 for x in range(10)]\n",
    "cuadrados"
   ]
  },
  {
   "cell_type": "markdown",
   "metadata": {},
   "source": [
    "Funciona también para diccionarios\n",
    "\n"
   ]
  },
  {
   "cell_type": "code",
   "execution_count": 1,
   "metadata": {},
   "outputs": [],
   "source": [
    "datos = [ti2[info] for info in claves]\n",
    "datos"
   ]
  },
  {
   "cell_type": "markdown",
   "metadata": {},
   "source": [
    "\n",
    "# En pulp\n",
    "\n"
   ]
  },
  {
   "cell_type": "code",
   "execution_count": 1,
   "metadata": {},
   "outputs": [],
   "source": [
    "from pulp import *\n",
    "prob = LpProblem(\"Problema\", LpMaximize)\n",
    "variables = LpVariable.dicts(\"x\", range(5), 0)\n",
    "variables"
   ]
  },
  {
   "cell_type": "markdown",
   "metadata": {},
   "source": [
    "Si queremos incluir la restricción\n",
    "$3x_{0}+2x_{1}+x_{2}+3x_{3}+7x_{4}\\leq 5$, podríamos poner:\n",
    "\n"
   ]
  },
  {
   "cell_type": "code",
   "execution_count": 1,
   "metadata": {},
   "outputs": [],
   "source": [
    "coeficientes = [3,2,1,3,7]\n",
    "prob += lpSum(coeficientes[i]*variables[i] for i in range(5)) <= 5\n",
    "prob"
   ]
  },
  {
   "cell_type": "markdown",
   "metadata": {},
   "source": [
    "Para maximizar $-x_{2}+x_{4}$ con esta restricción, podemos poner:\n",
    "\n"
   ]
  },
  {
   "cell_type": "code",
   "execution_count": 1,
   "metadata": {},
   "outputs": [],
   "source": [
    "objetivo = [0,0,-1,0,1]\n",
    "prob += lpSum(objetivo[i]*variables[i] for i in range(5))\n",
    "prob"
   ]
  },
  {
   "cell_type": "code",
   "execution_count": 1,
   "metadata": {},
   "outputs": [],
   "source": [
    "status = prob.solve()\n",
    "value(prob.objective), LpStatus[prob.status]"
   ]
  },
  {
   "cell_type": "markdown",
   "metadata": {},
   "source": [
    "\n",
    "## Problema\n",
    "\n"
   ]
  },
  {
   "cell_type": "markdown",
   "metadata": {},
   "source": [
    "Usando `for`, determinar los valores de las variables donde se alcanza\n",
    "el máximo.\n",
    "\n"
   ]
  }
 ],
 "metadata": {
  "kernelspec": {
   "display_name": "Python 3",
   "language": "python",
   "name": "python3"
  },
  "language_info": {
   "codemirror_mode": {
    "name": "ipython",
    "version": 3
   },
   "file_extension": ".py",
   "mimetype": "text/x-python",
   "name": "python",
   "nbconvert_exporter": "python",
   "pygments_lexer": "ipython3",
   "version": "3.7.0"
  },
  "org": null
 },
 "nbformat": 4,
 "nbformat_minor": 1
}
